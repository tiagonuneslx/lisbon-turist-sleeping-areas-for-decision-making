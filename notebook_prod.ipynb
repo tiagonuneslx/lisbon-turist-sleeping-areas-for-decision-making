{
 "cells": [
  {
   "cell_type": "code",
   "execution_count": null,
   "id": "initial_id",
   "metadata": {
    "collapsed": true
   },
   "outputs": [],
   "source": [
    "# Importing the libraries to use\n",
    "import numpy as np\n",
    "import pandas as pd\n",
    "import folium\n",
    "import geojson\n",
    "from geojson import FeatureCollection, Feature\n",
    "from branca.colormap import linear"
   ]
  },
  {
   "cell_type": "code",
   "execution_count": null,
   "outputs": [],
   "source": [
    "import os\n",
    "\n",
    "month_files = os.listdir(\"resources/data\")\n",
    "for month_file in month_files:\n",
    "    \n",
    "    # Importing the Vodafone DataSet from a CSV file\n",
    "    dfVodafone = pd.read_csv(\"resources/data/June2023.csv\")\n",
    "\n",
    "    # Transforming all columns from C1 to C11\n",
    "    dfVodafone['C1'] = dfVodafone['C1'].apply(np.int64)\n",
    "    dfVodafone['C2'] = dfVodafone['C2'].apply(np.int64)\n",
    "    dfVodafone['C3'] = dfVodafone['C3'].apply(np.int64)\n",
    "    dfVodafone['C4'] = dfVodafone['C4'].apply(np.int64)\n",
    "    dfVodafone['C5'] = dfVodafone['C5'].apply(np.int64)\n",
    "    dfVodafone['C6'] = dfVodafone['C6'].apply(np.int64)\n",
    "    dfVodafone['C7'] = dfVodafone['C7'].apply(np.int64)\n",
    "    dfVodafone['C8'] = dfVodafone['C8'].apply(np.int64)\n",
    "    dfVodafone['C9'] = dfVodafone['C9'].apply(np.int64)\n",
    "    dfVodafone['C10'] = dfVodafone['C10'].apply(np.int64)\n",
    "    dfVodafone['C11'] = dfVodafone['C11'].apply(np.int64)\n",
    "    \n",
    "    # Changing the data type to date and with the format we want\n",
    "    dfVodafone['Datetime'] = pd.to_datetime(dfVodafone['Datetime'], format=\"%Y-%m-%dT%H:%M:%S.%fZ\")\n",
    "    \n",
    "    # Changing the data type to date and with the format we want\n",
    "    dfVodafone['Datetime'] = pd.to_datetime(dfVodafone['Datetime'], format=\"%Y-%m-%dT%H:%M:%S.%fZ\")\n",
    "    \n",
    "    # Removing columns that we don't care about\n",
    "    dfVodafone = dfVodafone[[\"Grid_ID\", \"Datetime\", \"C1\", \"C2\", \"D1\"]]\n",
    "    \n",
    "    # Importing the Vodafone Metadata with information about the cells\n",
    "    dfGrids = pd.read_csv(\"resources/metadata/wktComplete.csv\", encoding=\"ISO-8859-1\")\n",
    "    \n",
    "    # Removing columns that we don't care about\n",
    "    dfGrids = dfGrids[[\"grelha_id\", \"freguesia\", \"latitude\", \"longitude\", \"nome\", \"position\"]]\n",
    "    \n",
    "    # Filtering by night time\n",
    "    dfVodafone = dfVodafone.set_index('Datetime').between_time('02:00', '07:00').reset_index()\n",
    "    \n",
    "    # Grouping by Grid ID and Day, aggregating by the minimum number of terminals each night for every cell\n",
    "dfSleepByDay = dfVodafone.assign(day=dfVodafone[\"Datetime\"].dt.day)\n",
    "dfSleepByDay = dfSleepByDay.groupby([\"Grid_ID\", \"day\"], as_index=False).agg(C2=(\"C2\", \"min\"), Datetime=('Datetime', \"min\"))\n",
    "dfSleepByDay.rename(columns={\"C2\": \"Sleeping\"}, inplace=True)"
   ],
   "metadata": {
    "collapsed": false
   },
   "id": "80d697d1ca2bf7f8"
  },
  {
   "cell_type": "code",
   "execution_count": null,
   "outputs": [],
   "source": [
    "# Grouping by Grid ID and Day, aggregating by the minimum number of terminals each night for every cell\n",
    "dfSleepByDay = dfVodafone.assign(day=dfVodafone[\"Datetime\"].dt.day)\n",
    "dfSleepByDay = dfSleepByDay.groupby([\"Grid_ID\", \"day\"], as_index=False).agg(C2=(\"C2\", \"min\"), Datetime=('Datetime', \"min\"))\n",
    "dfSleepByDay.rename(columns={\"C2\": \"Sleeping\"}, inplace=True)"
   ],
   "metadata": {
    "collapsed": false
   },
   "id": "e52511224097712a"
  },
  {
   "cell_type": "code",
   "execution_count": null,
   "outputs": [],
   "source": [
    "dfSleepByDay.info()"
   ],
   "metadata": {
    "collapsed": false
   },
   "id": "623c9a4282ca60b0"
  },
  {
   "cell_type": "code",
   "execution_count": null,
   "outputs": [],
   "source": [
    "# Grouping by Grid ID, aggregating by the mean number of minimum of terminals each night\n",
    "dfSleepMean = dfSleepByDay.groupby([\"Grid_ID\"])[\"Sleeping\"].mean().reset_index()"
   ],
   "metadata": {
    "collapsed": false
   },
   "id": "f789757fb5318e16"
  },
  {
   "cell_type": "code",
   "execution_count": null,
   "outputs": [],
   "source": [
    "dfSleepMean.info()"
   ],
   "metadata": {
    "collapsed": false
   },
   "id": "642c227731630e00"
  },
  {
   "cell_type": "code",
   "execution_count": null,
   "outputs": [],
   "source": [
    "# Adding the information about the cells to our dataframe\n",
    "dfSleepMean = dfSleepMean.merge(dfGrids, left_on='Grid_ID', right_on='grelha_id')"
   ],
   "metadata": {
    "collapsed": false
   },
   "id": "3c6dd07271a57b57"
  },
  {
   "cell_type": "code",
   "execution_count": null,
   "outputs": [],
   "source": [
    "dfSleepMean.info()"
   ],
   "metadata": {
    "collapsed": false
   },
   "id": "ee814065cfe2cc61"
  },
  {
   "cell_type": "code",
   "execution_count": null,
   "outputs": [],
   "source": [
    "# Creating a linear color map\n",
    "colormap = linear.YlOrRd_09.scale(\n",
    "    dfSleepMean[\"Sleeping\"].min(), dfSleepMean[\"Sleeping\"].max()\n",
    ")\n",
    "\n",
    "colormap"
   ],
   "metadata": {
    "collapsed": false
   },
   "id": "7aa464294c8358c8"
  },
  {
   "cell_type": "code",
   "execution_count": null,
   "outputs": [],
   "source": [
    "Sleeping_dict = dfSleepMean.set_index(\"Grid_ID\")[\"Sleeping\"]\n",
    "color_dict = {key: colormap(Sleeping_dict[key]) for key in Sleeping_dict.keys()}"
   ],
   "metadata": {
    "collapsed": false
   },
   "id": "196d084b649fc6b"
  },
  {
   "cell_type": "code",
   "execution_count": null,
   "outputs": [],
   "source": [
    "# Saving a Heat Map\n",
    "map = folium.Map(location=[38.743094, -9.145999], zoom_start=13)\n",
    "\n",
    "features = []\n",
    "for index, sleepByDay in dfSleepMean.iterrows():\n",
    "    feature = Feature(\n",
    "        geometry=geojson.loads(sleepByDay[\"position\"].replace(\"'\", '\"'))[0],\n",
    "        properties={\n",
    "            \"Grid_ID\": sleepByDay[\"Grid_ID\"],\n",
    "            \"name\": sleepByDay[\"nome\"],\n",
    "            \"freguesy\": sleepByDay[\"freguesia\"],\n",
    "            \"sleeping\": sleepByDay[\"Sleeping\"],\n",
    "        }\n",
    "    )\n",
    "    features.append(feature)\n",
    "\n",
    "feature_collection = FeatureCollection(features)\n",
    "\n",
    "tooltip = folium.GeoJsonTooltip(\n",
    "    fields=[\"name\", \"freguesy\", \"sleeping\"],\n",
    "    aliases=[\"Zona:\", \"Freguesia:\", \"A Dormir:\"],\n",
    "    localize=True,\n",
    "    sticky=False,\n",
    "    labels=True,\n",
    "    style=\"\"\"\n",
    "        background-color: #F0EFEF;\n",
    "        border: 2px solid black;\n",
    "        border-radius: 3px;\n",
    "        box-shadow: 3px;\n",
    "    \"\"\",\n",
    "    max_width=800,\n",
    ")\n",
    "\n",
    "folium.GeoJson(\n",
    "    data=feature_collection,\n",
    "    style_function=lambda feature: {\n",
    "        \"fillColor\": color_dict[feature.properties[\"Grid_ID\"]],\n",
    "        \"color\": \"black\",\n",
    "        \"weight\": 0,\n",
    "        \"fillOpacity\": .5,\n",
    "    },\n",
    "    tooltip=tooltip\n",
    ").add_to(map)\n",
    "\n",
    "colormap.add_to(map)\n",
    "\n",
    "map.save('dist/sleeping_cells_heatmap.html')\n",
    "\n",
    "map"
   ],
   "metadata": {
    "collapsed": false
   },
   "id": "3bd42b6430247750"
  },
  {
   "cell_type": "code",
   "execution_count": null,
   "outputs": [],
   "source": [
    "# Showing top 20 cells\n",
    "dfTop = dfSleepMean.nlargest(20, \"Sleeping\")[[\"Grid_ID\", \"nome\", \"freguesia\", \"Sleeping\"]]\n",
    "dfTop"
   ],
   "metadata": {
    "collapsed": false
   },
   "id": "d52d0173d32ad961"
  },
  {
   "cell_type": "code",
   "execution_count": null,
   "outputs": [],
   "source": [
    "# Group by freguesy, aggregate by sum\n",
    "dfSleepMeanFreg = dfSleepMean.groupby(\"freguesia\")[\"Sleeping\"].sum().reset_index()"
   ],
   "metadata": {
    "collapsed": false
   },
   "id": "c9ce47824bdacd91"
  },
  {
   "cell_type": "code",
   "execution_count": null,
   "outputs": [],
   "source": [
    "dfSleepMeanFreg.info()"
   ],
   "metadata": {
    "collapsed": false
   },
   "id": "ce57dc6ade2844fd"
  },
  {
   "cell_type": "code",
   "execution_count": null,
   "outputs": [],
   "source": [
    "dfTopFreg = dfSleepMeanFreg.nlargest(20, \"Sleeping\")[[\"freguesia\", \"Sleeping\"]]\n",
    "dfTopFreg.to_csv(\"dist/dfTopFreg.csv\")\n",
    "dfTopFreg"
   ],
   "metadata": {
    "collapsed": false
   },
   "id": "15117317c5cc9e86"
  },
  {
   "cell_type": "code",
   "execution_count": null,
   "outputs": [],
   "source": [
    "# Grouping by Weekday, aggregating by the mean number of minimum of terminals each weekday\n",
    "dfSleepByWeekday = dfSleepByDay.assign(Weekday=dfSleepByDay['Datetime'].dt.day_name())\n",
    "dfSleepByWeekdayMean = dfSleepByWeekday.groupby([\"Weekday\"], as_index=False)[\"Sleeping\"].mean()"
   ],
   "metadata": {
    "collapsed": false
   },
   "id": "4683cde5d1f741e7"
  },
  {
   "cell_type": "code",
   "execution_count": null,
   "outputs": [],
   "source": [
    "dfSleepByWeekdayMean.to_csv(\"dist/dfSleepByWeekdayMean.csv\")\n",
    "dfSleepByWeekdayMean"
   ],
   "metadata": {
    "collapsed": false
   },
   "id": "f4d216ebb7d616ae"
  },
  {
   "cell_type": "code",
   "execution_count": null,
   "outputs": [],
   "source": [],
   "metadata": {
    "collapsed": false
   },
   "id": "918ea6afffa82cea"
  }
 ],
 "metadata": {
  "kernelspec": {
   "display_name": "Python 3",
   "language": "python",
   "name": "python3"
  },
  "language_info": {
   "codemirror_mode": {
    "name": "ipython",
    "version": 2
   },
   "file_extension": ".py",
   "mimetype": "text/x-python",
   "name": "python",
   "nbconvert_exporter": "python",
   "pygments_lexer": "ipython2",
   "version": "2.7.6"
  }
 },
 "nbformat": 4,
 "nbformat_minor": 5
}
